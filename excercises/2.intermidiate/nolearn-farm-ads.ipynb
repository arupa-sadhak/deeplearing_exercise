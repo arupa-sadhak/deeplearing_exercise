{
 "cells": [
  {
   "cell_type": "markdown",
   "metadata": {},
   "source": [
    "Nolearn Tutorial (farm-ads)\n",
    "====\n"
   ]
  },
  {
   "cell_type": "markdown",
   "metadata": {},
   "source": [
    "# Farm-ads\n",
    "[https://archive.ics.uci.edu/ml/datasets/Farm+Ads](https://archive.ics.uci.edu/ml/datasets/Farm+Ads)\n",
    "\n",
    "* Farm-ads는 동물농장과 관련된 사이트에 게제된 text광고 데이터 셋이다. 데이터셋에 포함된 바이너리 레이블은 컨텐츠 소유자가 허용한 광고 여부이다. 소유자가 허용한 광고는 레이블 1이고, 허용하지 않은 레이블은 -1이다."
   ]
  },
  {
   "cell_type": "markdown",
   "metadata": {},
   "source": [
    "## 데이터 로드\n",
    "* 다음은 Farm-ads 데이터를 load하는 함수이다. 데이터는 [다음 페이지](https://archive.ics.uci.edu/ml/datasets/Farm+Ads)에서 얻을 수 있다."
   ]
  },
  {
   "cell_type": "code",
   "execution_count": 1,
   "metadata": {
    "collapsed": true
   },
   "outputs": [],
   "source": [
    "import numpy as np\n",
    "def load_farm_ads_vect(path, vector_size=54878):\n",
    "    X = []\n",
    "    y = []\n",
    "    with open(path, 'rb') as f:\n",
    "        for line in f:\n",
    "            yi, xi = line.split(' ', 1)\n",
    "            y.append(1 if int(yi) == 1 else 0)\n",
    "            \n",
    "            word_vec = np.zeros(vector_size)\n",
    "            for item in xi.split(' '):\n",
    "                index, value = item.split(':')\n",
    "                word_vec[int(index)] = float(value)\n",
    "            X.append(word_vec)\n",
    "\n",
    "    # Theano works with fp32 precision\n",
    "    X = np.array(X).astype(np.float32)\n",
    "    y = np.array(y).astype(np.int32)\n",
    "\n",
    "    # For convolutional layers, the default shape of data is bc01,\n",
    "    # i.e. batch size x color channels x image dimension 1 x image dimension 2.\n",
    "    # Therefore, we reshape the X data to -1, 1, 28, 28.\n",
    "    X = X.reshape(\n",
    "        -1,  # number of samples, -1 makes it so that this number is determined automatically\n",
    "        vector_size\n",
    "    )\n",
    "\n",
    "    return X, y\n",
    "def load_farm_ads_words(path):\n",
    "    words = []\n",
    "    y = []\n",
    "    with open(path, 'rb') as f:\n",
    "        for line in f:\n",
    "            yi, xi = line.split(' ', 1)\n",
    "            y.append(yi)\n",
    "            words.append(xi.strip().split(' '))\n",
    "\n",
    "    y = np.array(y).astype(np.int32)\n",
    "    return words, y"
   ]
  },
  {
   "cell_type": "code",
   "execution_count": 2,
   "metadata": {
    "collapsed": false
   },
   "outputs": [],
   "source": [
    "import os\n",
    "path = os.path.join(os.path.expanduser('~'), 'datas/farm-ads/')\n",
    "X, y = load_farm_ads_vect(path+'farm-ads-vect')\n",
    "words, _ = load_farm_ads_words(path+'farm-ads')"
   ]
  },
  {
   "cell_type": "code",
   "execution_count": 3,
   "metadata": {
    "collapsed": false
   },
   "outputs": [
    {
     "name": "stdout",
     "output_type": "stream",
     "text": [
      "[Expected] words...\n",
      "[Accepted] jerry bruckheimer chase premier sept th\n",
      "[Rejected] rheumatoid arthritis expert tip info article\n",
      "[Rejected] rheumatologist anju varghese yonker ny pomona\n",
      "[Rejected] siemen water remediation water scarce resource\n",
      "[Rejected] symptom muscle weakness genetic disease symptom\n"
     ]
    }
   ],
   "source": [
    "print '[Expected] words...'\n",
    "for i in range(5):\n",
    "    print '[Rejected]' if y[i]==0 else '[Accepted]',\n",
    "    print ' '.join([(word[3:] if 'ad-' in word else word) for word in words[i]][:6])"
   ]
  },
  {
   "cell_type": "markdown",
   "metadata": {},
   "source": [
    "## NeuralNet\n",
    "* Network & parameter 셋업"
   ]
  },
  {
   "cell_type": "code",
   "execution_count": 4,
   "metadata": {
    "collapsed": false
   },
   "outputs": [],
   "source": [
    "from lasagne.layers import *\n",
    "from lasagne.nonlinearities import *\n",
    "layers = [\n",
    "    (InputLayer, {'shape': X.shape}),\n",
    "    (DenseLayer, {'num_units': 256, 'nonlinearity': tanh}),\n",
    "    (DenseLayer, {'num_units': 2, 'nonlinearity': softmax}),\n",
    "]"
   ]
  },
  {
   "cell_type": "code",
   "execution_count": 5,
   "metadata": {
    "collapsed": false
   },
   "outputs": [],
   "source": [
    "from nolearn.lasagne import NeuralNet\n",
    "from nolearn.lasagne import TrainSplit\n",
    "from lasagne.objectives import *\n",
    "from lasagne.updates import *\n",
    "\n",
    "net = NeuralNet(\n",
    "    layers=layers,\n",
    "    \n",
    "    train_split=TrainSplit(eval_size=0.1),\n",
    "    max_epochs = 10,\n",
    "    \n",
    "    update=sgd,\n",
    "    update_learning_rate=0.05,\n",
    "    \n",
    "    verbose=1,\n",
    ")"
   ]
  },
  {
   "cell_type": "markdown",
   "metadata": {},
   "source": [
    "### training"
   ]
  },
  {
   "cell_type": "code",
   "execution_count": 6,
   "metadata": {
    "collapsed": false
   },
   "outputs": [
    {
     "name": "stdout",
     "output_type": "stream",
     "text": [
      "# Neural Network with 14049538 learnable parameters\n",
      "\n",
      "## Layer information\n",
      "\n",
      "  #  name      size\n",
      "---  ------  ------\n",
      "  0  input0   54878\n",
      "  1  dense1     256\n",
      "  2  dense2       2\n",
      "\n",
      "  epoch    train loss    valid loss    train/val    valid acc  dur\n",
      "-------  ------------  ------------  -----------  -----------  -----\n",
      "      1       \u001b[36m0.45057\u001b[0m       \u001b[32m0.35116\u001b[0m      1.28310      0.89012  5.07s\n",
      "      2       \u001b[36m0.31685\u001b[0m       \u001b[32m0.29741\u001b[0m      1.06538      0.90184  5.20s\n",
      "      3       \u001b[36m0.26251\u001b[0m       \u001b[32m0.27326\u001b[0m      0.96065      0.89989  5.97s\n",
      "      4       \u001b[36m0.22603\u001b[0m       \u001b[32m0.25899\u001b[0m      0.87272      0.89989  4.81s\n",
      "      5       \u001b[36m0.19861\u001b[0m       \u001b[32m0.24947\u001b[0m      0.79610      0.89793  4.68s\n",
      "      6       \u001b[36m0.17695\u001b[0m       \u001b[32m0.24273\u001b[0m      0.72898      0.89989  4.99s\n",
      "      7       \u001b[36m0.15934\u001b[0m       \u001b[32m0.23782\u001b[0m      0.67001      0.90184  5.13s\n",
      "      8       \u001b[36m0.14473\u001b[0m       \u001b[32m0.23419\u001b[0m      0.61802      0.89989  4.87s\n",
      "      9       \u001b[36m0.13240\u001b[0m       \u001b[32m0.23149\u001b[0m      0.57194      0.89573  4.61s\n",
      "     10       \u001b[36m0.12185\u001b[0m       \u001b[32m0.22948\u001b[0m      0.53097      0.89573  4.75s\n"
     ]
    }
   ],
   "source": [
    "_ = net.fit(X, y)"
   ]
  },
  {
   "cell_type": "code",
   "execution_count": 7,
   "metadata": {
    "collapsed": false
   },
   "outputs": [
    {
     "data": {
      "image/png": "[encoded data removed]",
      "text/plain": [
       "<matplotlib.figure.Figure at 0x12b4dc110>"
      ]
     },
     "metadata": {},
     "output_type": "display_data"
    }
   ],
   "source": [
    "import matplotlib.pyplot as plt\n",
    "%matplotlib inline\n",
    "from nolearn.lasagne.visualize import plot_loss\n",
    "plot_loss(net)"
   ]
  },
  {
   "cell_type": "markdown",
   "metadata": {},
   "source": [
    "### evaluation"
   ]
  },
  {
   "cell_type": "code",
   "execution_count": 8,
   "metadata": {
    "collapsed": false
   },
   "outputs": [],
   "source": [
    "y_hat = net.predict(X)"
   ]
  },
  {
   "cell_type": "code",
   "execution_count": 9,
   "metadata": {
    "collapsed": false
   },
   "outputs": [
    {
     "name": "stdout",
     "output_type": "stream",
     "text": [
      "             precision    recall  f1-score   support\n",
      "\n",
      "          0       0.97      0.96      0.96      1933\n",
      "          1       0.96      0.97      0.97      2210\n",
      "\n",
      "avg / total       0.97      0.97      0.97      4143\n",
      "\n"
     ]
    }
   ],
   "source": [
    "from sklearn.metrics import classification_report\n",
    "print classification_report(y, y_hat)"
   ]
  },
  {
   "cell_type": "code",
   "execution_count": 10,
   "metadata": {
    "collapsed": false
   },
   "outputs": [
    {
     "name": "stdout",
     "output_type": "stream",
     "text": [
      "[Expected] [Predict ] words...\n",
      "[Accepted] [Accepted] jerry bruckheimer chase premier sept th\n",
      "[Rejected] [Rejected] rheumatoid arthritis expert tip info article\n",
      "[Rejected] [Rejected] rheumatologist anju varghese yonker ny pomona\n",
      "[Rejected] [Rejected] siemen water remediation water scarce resource\n",
      "[Rejected] [Rejected] symptom muscle weakness genetic disease symptom\n",
      "[Accepted] [Accepted] animal animal wild sa official tourism\n",
      "[Rejected] [Rejected] dr enrico fazzini parkinson disease specialist\n",
      "[Rejected] [Rejected] ulcerative colitis uc quiz ulcerative colitis\n",
      "[Rejected] [Rejected] wellcentive registry web base preventive care\n",
      "[Accepted] [Accepted] free raw food video feature mike\n",
      "[Rejected] [Rejected] north shore lij cancer center provide\n",
      "[Accepted] [Accepted] world finest alpaca breeder seller finest\n",
      "[Accepted] [Accepted] vet online veterinarian online question answer\n",
      "[Rejected] [Rejected] gum disease treatment dentist near treatment\n",
      "[Accepted] [Accepted] rabbit guinea pig hutch deal save\n",
      "[Rejected] [Rejected] colitis symptom ulcerative colitis symptom quiz\n",
      "[Rejected] [Rejected] disease sign symptom cause lung respiratory\n",
      "[Accepted] [Accepted] pygmy goat pygmy goat title-pygmy title-goat\n",
      "[Accepted] [Accepted] feed supplement buy nutritional supplement horse\n",
      "[Rejected] [Accepted] www musclewarfare com title-muscle title-warfare title-bodybuild\n",
      "[Rejected] [Accepted] farm truck truck farm commodity quality\n",
      "[Rejected] [Rejected] product info review organic toxic product\n",
      "[Accepted] [Accepted] low fat spray fresh butter taste\n",
      "[Accepted] [Accepted] guinea pig food save guinea pig\n",
      "[Rejected] [Rejected] diabete symptom diet symptom signal diabetic\n",
      "[Accepted] [Accepted] horse vet buy nutritional supplement horse\n",
      "[Rejected] [Rejected] parkinson option information available treatment option\n",
      "[Accepted] [Accepted] sioux livestock equipment sioux steel livestock\n",
      "[Accepted] [Accepted] service organics choose organic distributor quality\n",
      "[Rejected] [Rejected] facet disease gentle endoscopic alternative pain\n"
     ]
    }
   ],
   "source": [
    "print '[Expected] [Predict ] words...'\n",
    "for i in range(30):\n",
    "    print '[Rejected]' if y[i]==0 else '[Accepted]',\n",
    "    print '[Rejected]' if y_hat[i]==0 else '[Accepted]',\n",
    "    print ' '.join([(word[3:] if 'ad-' in word else word) for word in words[i]][:6])"
   ]
  },
  {
   "cell_type": "code",
   "execution_count": null,
   "metadata": {
    "collapsed": true
   },
   "outputs": [],
   "source": []
  }
 ],
 "metadata": {
  "kernelspec": {
   "display_name": "Python 2",
   "language": "python",
   "name": "python2"
  },
  "language_info": {
   "codemirror_mode": {
    "name": "ipython",
    "version": 2
   },
   "file_extension": ".py",
   "mimetype": "text/x-python",
   "name": "python",
   "nbconvert_exporter": "python",
   "pygments_lexer": "ipython2",
   "version": "2.7.10"
  }
 },
 "nbformat": 4,
 "nbformat_minor": 0
}
