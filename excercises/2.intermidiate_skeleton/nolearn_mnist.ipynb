{
 "cells": [
  {
   "cell_type": "markdown",
   "metadata": {},
   "source": [
    "Nolearn Tutorial (MNIST example)\n",
    "====\n",
    "본 튜토리얼은 [다음 lasagne 예제](https://github.com/craffel/Lasagne-tutorial/blob/master/examples/tutorial.ipynb) 문서와 [다음 nolearn 예제](http://nbviewer.ipython.org/github/dnouri/nolearn/blob/master/docs/notebooks/CNN_tutorial.ipynb)를 기반으로 작성되었으며, 최신(2015년 09월 04일)의 master branch에서 동작하도록 수정되었음.\n",
    "(내용이해를 돕기위해 간략하게 번역 및 각색하여 오역이나 오류가 있을 수 있음.)"
   ]
  },
  {
   "cell_type": "markdown",
   "metadata": {},
   "source": [
    "# MNIST Handwritten Digit Recognition\n",
    "\n",
    "[https://www.kaggle.com/c/digit-recognizer](https://www.kaggle.com/c/digit-recognizer)\n",
    "\n",
    "![mnist](https://kaggle2.blob.core.windows.net/competitions/kaggle/3004/logos/front_page.png)\n"
   ]
  },
  {
   "cell_type": "markdown",
   "metadata": {},
   "source": [
    "## 데이터 로드\n",
    "* 다음은 MNIST 데이터를 load하는 함수이다. 원본 데이터는 [다음 MNIST 프로젝트 페이지](http://yann.lecun.com/exdb/mnist/)에서 얻을 수 있고, 쉽게 로드 할 수 있는 데이터는 [다음 Kaggle 페이지](https://www.kaggle.com/c/digit-recognizer/data) 에서 얻을 수 있다.\n",
    "> 본 예제에서는 Kaggle 데이터 기준으로 작성되어 있다."
   ]
  },
  {
   "cell_type": "code",
   "execution_count": 1,
   "metadata": {
    "collapsed": true
   },
   "outputs": [],
   "source": [
    "import numpy as np\n",
    "def load_mnist(path, is_unlabed=False):\n",
    "    X = []\n",
    "    y = []\n",
    "    with open(path, 'rb') as f:\n",
    "        next(f)  # skip header\n",
    "        for line in f:\n",
    "            yi, xi = ['-1', line] if is_unlabed else line.split(',', 1)\n",
    "            y.append(yi)\n",
    "            X.append(xi.split(','))\n",
    "\n",
    "    # Theano works with fp32 precision\n",
    "    X = np.array(X).astype(np.float32)\n",
    "    y = np.array(y).astype(np.int32)\n",
    "\n",
    "    # apply some very simple normalization to the data\n",
    "    X -= X.mean()\n",
    "    X /= X.std()\n",
    "\n",
    "    # For convolutional layers, the default shape of data is bc01,\n",
    "    # i.e. batch size x color channels x image dimension 1 x image dimension 2.\n",
    "    # Therefore, we reshape the X data to -1, 1, 28, 28.\n",
    "    X = X.reshape(\n",
    "        -1,  # number of samples, -1 makes it so that this number is determined automatically\n",
    "        1,   # 1 color channel, since images are only black and white\n",
    "        28,  # first image dimension (vertical)\n",
    "        28,  # second image dimension (horizontal)\n",
    "    )\n",
    "\n",
    "    return X, y"
   ]
  },
  {
   "cell_type": "code",
   "execution_count": 2,
   "metadata": {
    "collapsed": false
   },
   "outputs": [],
   "source": [
    "import os\n",
    "path = os.path.join(os.path.expanduser('~'), 'datas/mnist/train.csv')\n",
    "X, y = load_mnist(path)"
   ]
  },
  {
   "cell_type": "code",
   "execution_count": 3,
   "metadata": {
    "collapsed": false
   },
   "outputs": [
    {
     "data": {
      "image/png": "[encoded data removed]",
      "text/plain": [
       "<matplotlib.figure.Figure at 0x7f80b55bee90>"
      ]
     },
     "metadata": {},
     "output_type": "display_data"
    }
   ],
   "source": [
    "import matplotlib.pyplot as plt\n",
    "%matplotlib inline\n",
    "figs, axes = plt.subplots(4, 4, figsize=(6, 6))\n",
    "for i in range(4):\n",
    "    for j in range(4):\n",
    "        axes[i, j].imshow(-X[i + 4 * j].reshape(28, 28), cmap='gray', interpolation='none')\n",
    "        axes[i, j].set_xticks([])\n",
    "        axes[i, j].set_yticks([])\n",
    "        axes[i, j].set_title(\"Label: {}\".format(y[i + 4 * j]))\n",
    "        axes[i, j].axis('off')"
   ]
  },
  {
   "cell_type": "markdown",
   "metadata": {},
   "source": [
    "### layers\n",
    "lasagne는 일반적으로 Layer인스턴스를 쌓아서 네트워크를 만든다. lasagne의 Layer는 neural network에서 일반적으로 사용되는 기능을을 구현해 놓았고, layer에 있는 파라메터는 Theano를 사용해 계산한다.\n",
    "\n",
    "#### InputLayer\n",
    "InputLayer는 실제 입력 데이터(observed data)를 넣을 수 있는 레이어이다.\n",
    "\n",
    "#### ConvolutionLayer\n",
    "이미지에 특화된 weighted kernal function이다.\n",
    "\n",
    "#### DenseLayer\n",
    "DenseLayers는 neural network의 기본 형태의 Layer이다.\n",
    "인풋값인 $x$ 에 웨이트 매트릭스 $W$ 와 바이어스 벡터 $b$ 를 연산하고 nonlinearity 함수인 $\\\\sigma$ 를 수행한다. ($\\\\sigma(Wx + b)$)\n",
    "> fullconnect layer라고도 한다.\n",
    "\n"
   ]
  },
  {
   "cell_type": "code",
   "execution_count": null,
   "metadata": {
    "collapsed": false
   },
   "outputs": [],
   "source": [
    "from lasagne.layers import *\n",
    "from lasagne.nonlinearities import *\n",
    "layers = [\n",
    "    (InputLayer, {'shape': (None, X.shape[1], X.shape[2], X.shape[3])}),\n",
    "    \n",
    "    # TODO layer configures...\n",
    "    \n",
    "    (DenseLayer, {'num_units': 10, 'nonlinearity': softmax} ),\n",
    "]"
   ]
  },
  {
   "cell_type": "code",
   "execution_count": null,
   "metadata": {
    "collapsed": true
   },
   "outputs": [],
   "source": [
    "from nolearn.lasagne import NeuralNet\n",
    "from lasagne.objectives import *\n",
    "from lasagne.updates import *\n",
    "\n",
    "net = NeuralNet(\n",
    "    layers=layers,\n",
    "    max_epochs = 3,\n",
    "    \n",
    "    update=sgd,\n",
    "    update_learning_rate=0.1,\n",
    "    \n",
    "    verbose=1,\n",
    ")"
   ]
  },
  {
   "cell_type": "code",
   "execution_count": null,
   "metadata": {
    "collapsed": false
   },
   "outputs": [],
   "source": [
    "_ = net.fit(X, y)"
   ]
  },
  {
   "cell_type": "code",
   "execution_count": null,
   "metadata": {
    "collapsed": false
   },
   "outputs": [],
   "source": [
    "from nolearn.lasagne.visualize import plot_loss\n",
    "plot_loss(net)"
   ]
  },
  {
   "cell_type": "markdown",
   "metadata": {},
   "source": [
    "### evaluation (training set)\n"
   ]
  },
  {
   "cell_type": "code",
   "execution_count": null,
   "metadata": {
    "collapsed": false
   },
   "outputs": [],
   "source": [
    "y_hat = net.predict(X)"
   ]
  },
  {
   "cell_type": "code",
   "execution_count": null,
   "metadata": {
    "collapsed": false
   },
   "outputs": [],
   "source": [
    "from sklearn.metrics import classification_report\n",
    "print classification_report(y, y_hat)"
   ]
  },
  {
   "cell_type": "code",
   "execution_count": null,
   "metadata": {
    "collapsed": false
   },
   "outputs": [],
   "source": [
    "import matplotlib.pyplot as plt\n",
    "%matplotlib inline\n",
    "N_PLOT_ITEMS=10\n",
    "figs, axes = plt.subplots(N_PLOT_ITEMS, N_PLOT_ITEMS, figsize=(N_PLOT_ITEMS*2, N_PLOT_ITEMS*2))\n",
    "for i in range(N_PLOT_ITEMS):\n",
    "    for j in range(N_PLOT_ITEMS):\n",
    "        axes[i, j].imshow(-X[i + 4 * j].reshape(28, 28), cmap='gray', interpolation='none')\n",
    "        axes[i, j].set_xticks([])\n",
    "        axes[i, j].set_yticks([])\n",
    "        axes[i, j].set_title(\"y:{}, yhat:{}\".format(y[i+4*j], y_hat[i+4*j]))\n",
    "        axes[i, j].axis('off')"
   ]
  },
  {
   "cell_type": "markdown",
   "metadata": {},
   "source": [
    "### evaluation (test set)\n"
   ]
  },
  {
   "cell_type": "code",
   "execution_count": null,
   "metadata": {
    "collapsed": false
   },
   "outputs": [],
   "source": [
    "path = os.path.join(os.path.expanduser('~'), 'datas/mnist/test.csv')\n",
    "X, y = load_mnist(path, is_unlabed=True)"
   ]
  },
  {
   "cell_type": "code",
   "execution_count": null,
   "metadata": {
    "collapsed": true
   },
   "outputs": [],
   "source": [
    "y_hat = net.predict(X)"
   ]
  },
  {
   "cell_type": "code",
   "execution_count": null,
   "metadata": {
    "collapsed": false
   },
   "outputs": [],
   "source": [
    "import matplotlib.pyplot as plt\n",
    "%matplotlib inline\n",
    "N_PLOT_ITEMS=10\n",
    "figs, axes = plt.subplots(N_PLOT_ITEMS, N_PLOT_ITEMS, figsize=(N_PLOT_ITEMS*2, N_PLOT_ITEMS*2))\n",
    "for i in range(N_PLOT_ITEMS):\n",
    "    for j in range(N_PLOT_ITEMS):\n",
    "        axes[i, j].imshow(-X[i + 4 * j].reshape(28, 28), cmap='gray', interpolation='none')\n",
    "        axes[i, j].set_xticks([])\n",
    "        axes[i, j].set_yticks([])\n",
    "        axes[i, j].set_title(\"prediction:{}\".format(y_hat[i+4*j]))\n",
    "        axes[i, j].axis('off')"
   ]
  },
  {
   "cell_type": "code",
   "execution_count": null,
   "metadata": {
    "collapsed": true
   },
   "outputs": [],
   "source": []
  }
 ],
 "metadata": {
  "kernelspec": {
   "display_name": "Python 2",
   "language": "python",
   "name": "python2"
  },
  "language_info": {
   "codemirror_mode": {
    "name": "ipython",
    "version": 2
   },
   "file_extension": ".py",
   "mimetype": "text/x-python",
   "name": "python",
   "nbconvert_exporter": "python",
   "pygments_lexer": "ipython2",
   "version": "2.7.6"
  }
 },
 "nbformat": 4,
 "nbformat_minor": 0
}
