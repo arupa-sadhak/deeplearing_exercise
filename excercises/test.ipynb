{
 "cells": [
  {
   "cell_type": "code",
   "execution_count": null,
   "metadata": {
    "collapsed": false
   },
   "outputs": [],
   "source": [
    "import theano\n",
    "import sklearn.datasets\n",
    "# Generate synthetic data\n",
    "N_CLASSES = 3\n",
    "X, y = sklearn.datasets.make_classification(n_features=2, n_redundant=0,\n",
    "                                            n_classes=N_CLASSES, n_clusters_per_class=1)\n",
    "# Convert to theano floatX\n",
    "X = X.astype(theano.config.floatX)\n",
    "# Labels should be ints\n",
    "y = y.astype('int32')\n",
    "\n",
    "from lasagne.layers import *\n",
    "from lasagne.nonlinearities import *\n",
    "layers = [\n",
    "    (InputLayer, {'shape': X.shape}),\n",
    "    (DenseLayer, {'num_units': N_CLASSES, 'nonlinearity': softmax} ),\n",
    "]\n",
    "\n",
    "from nolearn.lasagne import NeuralNet\n",
    "from lasagne.objectives import *\n",
    "from lasagne.updates import *\n",
    "net = NeuralNet(\n",
    "    layers=layers,\n",
    "    max_epochs = 10,\n",
    "    \n",
    "    update=sgd,\n",
    "    update_learning_rate=1,\n",
    "    \n",
    "    verbose=0,\n",
    ")\n",
    "_ = net.fit(X, y)\n",
    "\n",
    "import matplotlib.pyplot as plt\n",
    "%matplotlib inline\n",
    "from nolearn.lasagne.visualize import plot_loss\n",
    "plot_loss(net)"
   ]
  },
  {
   "cell_type": "code",
   "execution_count": null,
   "metadata": {
    "collapsed": true
   },
   "outputs": [],
   "source": []
  }
 ],
 "metadata": {
  "kernelspec": {
   "display_name": "Python 2",
   "language": "python",
   "name": "python2"
  },
  "language_info": {
   "codemirror_mode": {
    "name": "ipython",
    "version": 2
   },
   "file_extension": ".py",
   "mimetype": "text/x-python",
   "name": "python",
   "nbconvert_exporter": "python",
   "pygments_lexer": "ipython2",
   "version": "2.7.6"
  }
 },
 "nbformat": 4,
 "nbformat_minor": 0
}
